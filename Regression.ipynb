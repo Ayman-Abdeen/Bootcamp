{
 "cells": [
  {
   "cell_type": "code",
   "execution_count": 1,
   "metadata": {},
   "outputs": [],
   "source": [
    "import pandas as pd\n",
    "import numpy as np\n",
    "import seaborn as sns\n",
    "import matplotlib.pyplot as plt\n",
    "\n",
    "data = pd.read_csv(\"hyundi.csv\")"
   ]
  },
  {
   "cell_type": "code",
   "execution_count": 2,
   "metadata": {},
   "outputs": [
    {
     "data": {
      "text/html": [
       "<div>\n",
       "<style scoped>\n",
       "    .dataframe tbody tr th:only-of-type {\n",
       "        vertical-align: middle;\n",
       "    }\n",
       "\n",
       "    .dataframe tbody tr th {\n",
       "        vertical-align: top;\n",
       "    }\n",
       "\n",
       "    .dataframe thead th {\n",
       "        text-align: right;\n",
       "    }\n",
       "</style>\n",
       "<table border=\"1\" class=\"dataframe\">\n",
       "  <thead>\n",
       "    <tr style=\"text-align: right;\">\n",
       "      <th></th>\n",
       "      <th>model</th>\n",
       "      <th>year</th>\n",
       "      <th>price</th>\n",
       "      <th>transmission</th>\n",
       "      <th>mileage</th>\n",
       "      <th>fuelType</th>\n",
       "      <th>tax(£)</th>\n",
       "      <th>mpg</th>\n",
       "      <th>engineSize</th>\n",
       "    </tr>\n",
       "  </thead>\n",
       "  <tbody>\n",
       "    <tr>\n",
       "      <th>0</th>\n",
       "      <td>I20</td>\n",
       "      <td>2017</td>\n",
       "      <td>7999</td>\n",
       "      <td>Manual</td>\n",
       "      <td>17307</td>\n",
       "      <td>Petrol</td>\n",
       "      <td>145</td>\n",
       "      <td>58.9</td>\n",
       "      <td>1.2</td>\n",
       "    </tr>\n",
       "    <tr>\n",
       "      <th>1</th>\n",
       "      <td>Tucson</td>\n",
       "      <td>2016</td>\n",
       "      <td>14499</td>\n",
       "      <td>Automatic</td>\n",
       "      <td>25233</td>\n",
       "      <td>Diesel</td>\n",
       "      <td>235</td>\n",
       "      <td>43.5</td>\n",
       "      <td>2.0</td>\n",
       "    </tr>\n",
       "    <tr>\n",
       "      <th>2</th>\n",
       "      <td>Tucson</td>\n",
       "      <td>2016</td>\n",
       "      <td>11399</td>\n",
       "      <td>Manual</td>\n",
       "      <td>37877</td>\n",
       "      <td>Diesel</td>\n",
       "      <td>30</td>\n",
       "      <td>61.7</td>\n",
       "      <td>1.7</td>\n",
       "    </tr>\n",
       "    <tr>\n",
       "      <th>3</th>\n",
       "      <td>I10</td>\n",
       "      <td>2016</td>\n",
       "      <td>6499</td>\n",
       "      <td>Manual</td>\n",
       "      <td>23789</td>\n",
       "      <td>Petrol</td>\n",
       "      <td>20</td>\n",
       "      <td>60.1</td>\n",
       "      <td>1.0</td>\n",
       "    </tr>\n",
       "    <tr>\n",
       "      <th>4</th>\n",
       "      <td>IX35</td>\n",
       "      <td>2015</td>\n",
       "      <td>10199</td>\n",
       "      <td>Manual</td>\n",
       "      <td>33177</td>\n",
       "      <td>Diesel</td>\n",
       "      <td>160</td>\n",
       "      <td>51.4</td>\n",
       "      <td>2.0</td>\n",
       "    </tr>\n",
       "  </tbody>\n",
       "</table>\n",
       "</div>"
      ],
      "text/plain": [
       "     model  year  price transmission  mileage fuelType  tax(£)   mpg  \\\n",
       "0      I20  2017   7999       Manual    17307   Petrol     145  58.9   \n",
       "1   Tucson  2016  14499    Automatic    25233   Diesel     235  43.5   \n",
       "2   Tucson  2016  11399       Manual    37877   Diesel      30  61.7   \n",
       "3      I10  2016   6499       Manual    23789   Petrol      20  60.1   \n",
       "4     IX35  2015  10199       Manual    33177   Diesel     160  51.4   \n",
       "\n",
       "   engineSize  \n",
       "0         1.2  \n",
       "1         2.0  \n",
       "2         1.7  \n",
       "3         1.0  \n",
       "4         2.0  "
      ]
     },
     "execution_count": 2,
     "metadata": {},
     "output_type": "execute_result"
    }
   ],
   "source": [
    "data.head()\n",
    "# We need to narmalize mileage/mpg/engineSize"
   ]
  },
  {
   "cell_type": "code",
   "execution_count": 3,
   "metadata": {},
   "outputs": [],
   "source": [
    "## check for the nulls"
   ]
  },
  {
   "cell_type": "code",
   "execution_count": 4,
   "metadata": {},
   "outputs": [
    {
     "name": "stdout",
     "output_type": "stream",
     "text": [
      "model           0\n",
      "year            0\n",
      "price           0\n",
      "transmission    0\n",
      "mileage         0\n",
      "fuelType        0\n",
      "tax(£)          0\n",
      "mpg             0\n",
      "engineSize      0\n",
      "dtype: int64\n"
     ]
    }
   ],
   "source": [
    "print(data.isnull().sum())\n"
   ]
  },
  {
   "cell_type": "code",
   "execution_count": 5,
   "metadata": {},
   "outputs": [
    {
     "data": {
      "text/html": [
       "<div>\n",
       "<style scoped>\n",
       "    .dataframe tbody tr th:only-of-type {\n",
       "        vertical-align: middle;\n",
       "    }\n",
       "\n",
       "    .dataframe tbody tr th {\n",
       "        vertical-align: top;\n",
       "    }\n",
       "\n",
       "    .dataframe thead th {\n",
       "        text-align: right;\n",
       "    }\n",
       "</style>\n",
       "<table border=\"1\" class=\"dataframe\">\n",
       "  <thead>\n",
       "    <tr style=\"text-align: right;\">\n",
       "      <th></th>\n",
       "      <th>year</th>\n",
       "      <th>price</th>\n",
       "      <th>mileage</th>\n",
       "      <th>tax(£)</th>\n",
       "      <th>mpg</th>\n",
       "      <th>engineSize</th>\n",
       "    </tr>\n",
       "  </thead>\n",
       "  <tbody>\n",
       "    <tr>\n",
       "      <th>count</th>\n",
       "      <td>4860.000000</td>\n",
       "      <td>4860.00000</td>\n",
       "      <td>4860.000000</td>\n",
       "      <td>4860.000000</td>\n",
       "      <td>4860.000000</td>\n",
       "      <td>4860.000000</td>\n",
       "    </tr>\n",
       "    <tr>\n",
       "      <th>mean</th>\n",
       "      <td>2017.107613</td>\n",
       "      <td>12750.13107</td>\n",
       "      <td>21486.049588</td>\n",
       "      <td>121.147119</td>\n",
       "      <td>53.827798</td>\n",
       "      <td>1.457922</td>\n",
       "    </tr>\n",
       "    <tr>\n",
       "      <th>std</th>\n",
       "      <td>1.920456</td>\n",
       "      <td>5992.92231</td>\n",
       "      <td>17710.196964</td>\n",
       "      <td>58.003289</td>\n",
       "      <td>12.736042</td>\n",
       "      <td>0.400788</td>\n",
       "    </tr>\n",
       "    <tr>\n",
       "      <th>min</th>\n",
       "      <td>2000.000000</td>\n",
       "      <td>1200.00000</td>\n",
       "      <td>1.000000</td>\n",
       "      <td>0.000000</td>\n",
       "      <td>1.100000</td>\n",
       "      <td>0.000000</td>\n",
       "    </tr>\n",
       "    <tr>\n",
       "      <th>25%</th>\n",
       "      <td>2016.000000</td>\n",
       "      <td>8000.00000</td>\n",
       "      <td>8339.250000</td>\n",
       "      <td>125.000000</td>\n",
       "      <td>44.800000</td>\n",
       "      <td>1.200000</td>\n",
       "    </tr>\n",
       "    <tr>\n",
       "      <th>50%</th>\n",
       "      <td>2017.000000</td>\n",
       "      <td>11990.00000</td>\n",
       "      <td>17462.000000</td>\n",
       "      <td>145.000000</td>\n",
       "      <td>55.400000</td>\n",
       "      <td>1.600000</td>\n",
       "    </tr>\n",
       "    <tr>\n",
       "      <th>75%</th>\n",
       "      <td>2019.000000</td>\n",
       "      <td>15733.75000</td>\n",
       "      <td>30967.000000</td>\n",
       "      <td>145.000000</td>\n",
       "      <td>60.100000</td>\n",
       "      <td>1.700000</td>\n",
       "    </tr>\n",
       "    <tr>\n",
       "      <th>max</th>\n",
       "      <td>2020.000000</td>\n",
       "      <td>92000.00000</td>\n",
       "      <td>138000.000000</td>\n",
       "      <td>555.000000</td>\n",
       "      <td>256.800000</td>\n",
       "      <td>2.900000</td>\n",
       "    </tr>\n",
       "  </tbody>\n",
       "</table>\n",
       "</div>"
      ],
      "text/plain": [
       "              year        price        mileage       tax(£)          mpg  \\\n",
       "count  4860.000000   4860.00000    4860.000000  4860.000000  4860.000000   \n",
       "mean   2017.107613  12750.13107   21486.049588   121.147119    53.827798   \n",
       "std       1.920456   5992.92231   17710.196964    58.003289    12.736042   \n",
       "min    2000.000000   1200.00000       1.000000     0.000000     1.100000   \n",
       "25%    2016.000000   8000.00000    8339.250000   125.000000    44.800000   \n",
       "50%    2017.000000  11990.00000   17462.000000   145.000000    55.400000   \n",
       "75%    2019.000000  15733.75000   30967.000000   145.000000    60.100000   \n",
       "max    2020.000000  92000.00000  138000.000000   555.000000   256.800000   \n",
       "\n",
       "        engineSize  \n",
       "count  4860.000000  \n",
       "mean      1.457922  \n",
       "std       0.400788  \n",
       "min       0.000000  \n",
       "25%       1.200000  \n",
       "50%       1.600000  \n",
       "75%       1.700000  \n",
       "max       2.900000  "
      ]
     },
     "execution_count": 5,
     "metadata": {},
     "output_type": "execute_result"
    }
   ],
   "source": [
    "data.describe()"
   ]
  },
  {
   "cell_type": "code",
   "execution_count": 6,
   "metadata": {},
   "outputs": [
    {
     "data": {
      "text/plain": [
       "<AxesSubplot:ylabel='price'>"
      ]
     },
     "execution_count": 6,
     "metadata": {},
     "output_type": "execute_result"
    },
    {
     "data": {
      "image/png": "[encoded data removed]",
      "text/plain": [
       "<Figure size 432x288 with 1 Axes>"
      ]
     },
     "metadata": {
      "needs_background": "light"
     },
     "output_type": "display_data"
    }
   ],
   "source": [
    "#sns.set_theme(style=\"whitegrid\")\n",
    "sns.boxplot(y=data[\"price\"])"
   ]
  },
  {
   "cell_type": "markdown",
   "metadata": {},
   "source": [
    "**what kind of plots suitable for visualising categorical variable with continuous variable?**\n",
    "\n",
    "*visualize the year column (the categorical variable) with the price (the continuous variable)*\n",
    "\n",
    "*visualize the model column (the categorical variable) with the price (the continuous variable)*"
   ]
  },
  {
   "cell_type": "code",
   "execution_count": 7,
   "metadata": {},
   "outputs": [],
   "source": [
    "## your code here\n",
    "\n",
    "\n",
    "\n"
   ]
  },
  {
   "cell_type": "code",
   "execution_count": 8,
   "metadata": {},
   "outputs": [],
   "source": [
    "## your code here\n",
    "\n",
    "\n",
    "\n"
   ]
  },
  {
   "cell_type": "code",
   "execution_count": null,
   "metadata": {},
   "outputs": [],
   "source": []
  },
  {
   "cell_type": "code",
   "execution_count": 9,
   "metadata": {},
   "outputs": [
    {
     "data": {
      "text/plain": [
       "<seaborn.axisgrid.JointGrid at 0x7fea5c37b1c0>"
      ]
     },
     "execution_count": 9,
     "metadata": {},
     "output_type": "execute_result"
    },
    {
     "data": {
      "image/png": "[encoded data removed]",
      "text/plain": [
       "<Figure size 432x432 with 3 Axes>"
      ]
     },
     "metadata": {
      "needs_background": "light"
     },
     "output_type": "display_data"
    }
   ],
   "source": [
    "sns.jointplot(x=\"price\", y=\"tax(£)\", data=data,\n",
    "                 \n",
    "                  color=\"m\")"
   ]
  },
  {
   "cell_type": "markdown",
   "metadata": {},
   "source": [
    "**what can you interpret from this visualization?**"
   ]
  },
  {
   "cell_type": "markdown",
   "metadata": {},
   "source": []
  },
  {
   "cell_type": "code",
   "execution_count": 10,
   "metadata": {},
   "outputs": [
    {
     "data": {
      "image/png": "[encoded data removed]",
      "text/plain": [
       "<Figure size 432x288 with 1 Axes>"
      ]
     },
     "metadata": {
      "needs_background": "light"
     },
     "output_type": "display_data"
    },
    {
     "name": "stdout",
     "output_type": "stream",
     "text": [
      "Skewness: 1.5885714727395455\n",
      "Kurtosis: 7.968769386201491\n"
     ]
    }
   ],
   "source": [
    "plt.hist(data[\"price\"].values, color = \"blue\", bins=30,density = True  )\n",
    "plt.show()\n",
    "\n",
    "# A positive skewness value in the output indicates an asymmetry in the distribution corresponding to row 3 and the tail is larger towards the right hand side of the distribution.\n",
    "print(\"Skewness: \" + str(data['price'].skew()))\n",
    "\n",
    "#\n",
    "print(\"Kurtosis: \" + str(data['price'].kurt()))\n",
    "## positive kurtosis means heavy tail and vice versa"
   ]
  },
  {
   "cell_type": "code",
   "execution_count": 11,
   "metadata": {},
   "outputs": [
    {
     "data": {
      "image/png": "[encoded data removed]",
      "text/plain": [
       "<Figure size 1440x504 with 2 Axes>"
      ]
     },
     "metadata": {
      "needs_background": "light"
     },
     "output_type": "display_data"
    }
   ],
   "source": [
    "corr = data.corr()\n",
    "f2, ax2 = plt.subplots(figsize=(20, 7))\n",
    "sns.heatmap(corr, vmax=0.8,annot_kws={'size': 20}, annot=True)\n",
    "plt.savefig('heatmap.png',bbox_inches='tight')\n"
   ]
  },
  {
   "cell_type": "code",
   "execution_count": 12,
   "metadata": {},
   "outputs": [
    {
     "data": {
      "image/png": "[encoded data removed]",
      "text/plain": [
       "<Figure size 432x288 with 1 Axes>"
      ]
     },
     "metadata": {
      "needs_background": "light"
     },
     "output_type": "display_data"
    }
   ],
   "source": [
    "import matplotlib.pyplot as plt\n",
    "fig = plt.figure()\n",
    "ax = fig.add_axes([0,0,1,1])\n",
    "fuel_type = ['Diesel','Hybrid','Other','Petrol']\n",
    "fuel_type_c = list(data.groupby(\"fuelType\").count()['year'].values)\n",
    "ax.bar(fuel_type,fuel_type_c)\n",
    "plt.show()"
   ]
  },
  {
   "cell_type": "code",
   "execution_count": 14,
   "metadata": {},
   "outputs": [
    {
     "data": {
      "text/html": [
       "<div>\n",
       "<style scoped>\n",
       "    .dataframe tbody tr th:only-of-type {\n",
       "        vertical-align: middle;\n",
       "    }\n",
       "\n",
       "    .dataframe tbody tr th {\n",
       "        vertical-align: top;\n",
       "    }\n",
       "\n",
       "    .dataframe thead th {\n",
       "        text-align: right;\n",
       "    }\n",
       "</style>\n",
       "<table border=\"1\" class=\"dataframe\">\n",
       "  <thead>\n",
       "    <tr style=\"text-align: right;\">\n",
       "      <th></th>\n",
       "      <th>model</th>\n",
       "      <th>year</th>\n",
       "      <th>price</th>\n",
       "      <th>transmission</th>\n",
       "      <th>mileage</th>\n",
       "      <th>fuelType</th>\n",
       "      <th>tax(£)</th>\n",
       "      <th>mpg</th>\n",
       "      <th>engineSize</th>\n",
       "    </tr>\n",
       "  </thead>\n",
       "  <tbody>\n",
       "    <tr>\n",
       "      <th>0</th>\n",
       "      <td>I20</td>\n",
       "      <td>2017</td>\n",
       "      <td>7999</td>\n",
       "      <td>Manual</td>\n",
       "      <td>17307</td>\n",
       "      <td>Petrol</td>\n",
       "      <td>145</td>\n",
       "      <td>58.9</td>\n",
       "      <td>1.2</td>\n",
       "    </tr>\n",
       "    <tr>\n",
       "      <th>1</th>\n",
       "      <td>Tucson</td>\n",
       "      <td>2016</td>\n",
       "      <td>14499</td>\n",
       "      <td>Automatic</td>\n",
       "      <td>25233</td>\n",
       "      <td>Diesel</td>\n",
       "      <td>235</td>\n",
       "      <td>43.5</td>\n",
       "      <td>2.0</td>\n",
       "    </tr>\n",
       "    <tr>\n",
       "      <th>2</th>\n",
       "      <td>Tucson</td>\n",
       "      <td>2016</td>\n",
       "      <td>11399</td>\n",
       "      <td>Manual</td>\n",
       "      <td>37877</td>\n",
       "      <td>Diesel</td>\n",
       "      <td>30</td>\n",
       "      <td>61.7</td>\n",
       "      <td>1.7</td>\n",
       "    </tr>\n",
       "    <tr>\n",
       "      <th>3</th>\n",
       "      <td>I10</td>\n",
       "      <td>2016</td>\n",
       "      <td>6499</td>\n",
       "      <td>Manual</td>\n",
       "      <td>23789</td>\n",
       "      <td>Petrol</td>\n",
       "      <td>20</td>\n",
       "      <td>60.1</td>\n",
       "      <td>1.0</td>\n",
       "    </tr>\n",
       "    <tr>\n",
       "      <th>4</th>\n",
       "      <td>IX35</td>\n",
       "      <td>2015</td>\n",
       "      <td>10199</td>\n",
       "      <td>Manual</td>\n",
       "      <td>33177</td>\n",
       "      <td>Diesel</td>\n",
       "      <td>160</td>\n",
       "      <td>51.4</td>\n",
       "      <td>2.0</td>\n",
       "    </tr>\n",
       "  </tbody>\n",
       "</table>\n",
       "</div>"
      ],
      "text/plain": [
       "     model  year  price transmission  mileage fuelType  tax(£)   mpg  \\\n",
       "0      I20  2017   7999       Manual    17307   Petrol     145  58.9   \n",
       "1   Tucson  2016  14499    Automatic    25233   Diesel     235  43.5   \n",
       "2   Tucson  2016  11399       Manual    37877   Diesel      30  61.7   \n",
       "3      I10  2016   6499       Manual    23789   Petrol      20  60.1   \n",
       "4     IX35  2015  10199       Manual    33177   Diesel     160  51.4   \n",
       "\n",
       "   engineSize  \n",
       "0         1.2  \n",
       "1         2.0  \n",
       "2         1.7  \n",
       "3         1.0  \n",
       "4         2.0  "
      ]
     },
     "execution_count": 14,
     "metadata": {},
     "output_type": "execute_result"
    }
   ],
   "source": [
    "data.head()"
   ]
  },
  {
   "cell_type": "code",
   "execution_count": 15,
   "metadata": {},
   "outputs": [],
   "source": [
    "data_onehot = pd.get_dummies(data,columns=['model', 'transmission','fuelType'])"
   ]
  },
  {
   "cell_type": "code",
   "execution_count": 16,
   "metadata": {},
   "outputs": [
    {
     "data": {
      "text/html": [
       "<div>\n",
       "<style scoped>\n",
       "    .dataframe tbody tr th:only-of-type {\n",
       "        vertical-align: middle;\n",
       "    }\n",
       "\n",
       "    .dataframe tbody tr th {\n",
       "        vertical-align: top;\n",
       "    }\n",
       "\n",
       "    .dataframe thead th {\n",
       "        text-align: right;\n",
       "    }\n",
       "</style>\n",
       "<table border=\"1\" class=\"dataframe\">\n",
       "  <thead>\n",
       "    <tr style=\"text-align: right;\">\n",
       "      <th></th>\n",
       "      <th>year</th>\n",
       "      <th>price</th>\n",
       "      <th>mileage</th>\n",
       "      <th>tax(£)</th>\n",
       "      <th>mpg</th>\n",
       "      <th>engineSize</th>\n",
       "      <th>model_ Accent</th>\n",
       "      <th>model_ Amica</th>\n",
       "      <th>model_ Getz</th>\n",
       "      <th>model_ I10</th>\n",
       "      <th>...</th>\n",
       "      <th>model_ Tucson</th>\n",
       "      <th>model_ Veloster</th>\n",
       "      <th>transmission_Automatic</th>\n",
       "      <th>transmission_Manual</th>\n",
       "      <th>transmission_Other</th>\n",
       "      <th>transmission_Semi-Auto</th>\n",
       "      <th>fuelType_Diesel</th>\n",
       "      <th>fuelType_Hybrid</th>\n",
       "      <th>fuelType_Other</th>\n",
       "      <th>fuelType_Petrol</th>\n",
       "    </tr>\n",
       "  </thead>\n",
       "  <tbody>\n",
       "    <tr>\n",
       "      <th>0</th>\n",
       "      <td>2017</td>\n",
       "      <td>7999</td>\n",
       "      <td>17307</td>\n",
       "      <td>145</td>\n",
       "      <td>58.9</td>\n",
       "      <td>1.2</td>\n",
       "      <td>0</td>\n",
       "      <td>0</td>\n",
       "      <td>0</td>\n",
       "      <td>0</td>\n",
       "      <td>...</td>\n",
       "      <td>0</td>\n",
       "      <td>0</td>\n",
       "      <td>0</td>\n",
       "      <td>1</td>\n",
       "      <td>0</td>\n",
       "      <td>0</td>\n",
       "      <td>0</td>\n",
       "      <td>0</td>\n",
       "      <td>0</td>\n",
       "      <td>1</td>\n",
       "    </tr>\n",
       "    <tr>\n",
       "      <th>1</th>\n",
       "      <td>2016</td>\n",
       "      <td>14499</td>\n",
       "      <td>25233</td>\n",
       "      <td>235</td>\n",
       "      <td>43.5</td>\n",
       "      <td>2.0</td>\n",
       "      <td>0</td>\n",
       "      <td>0</td>\n",
       "      <td>0</td>\n",
       "      <td>0</td>\n",
       "      <td>...</td>\n",
       "      <td>1</td>\n",
       "      <td>0</td>\n",
       "      <td>1</td>\n",
       "      <td>0</td>\n",
       "      <td>0</td>\n",
       "      <td>0</td>\n",
       "      <td>1</td>\n",
       "      <td>0</td>\n",
       "      <td>0</td>\n",
       "      <td>0</td>\n",
       "    </tr>\n",
       "    <tr>\n",
       "      <th>2</th>\n",
       "      <td>2016</td>\n",
       "      <td>11399</td>\n",
       "      <td>37877</td>\n",
       "      <td>30</td>\n",
       "      <td>61.7</td>\n",
       "      <td>1.7</td>\n",
       "      <td>0</td>\n",
       "      <td>0</td>\n",
       "      <td>0</td>\n",
       "      <td>0</td>\n",
       "      <td>...</td>\n",
       "      <td>1</td>\n",
       "      <td>0</td>\n",
       "      <td>0</td>\n",
       "      <td>1</td>\n",
       "      <td>0</td>\n",
       "      <td>0</td>\n",
       "      <td>1</td>\n",
       "      <td>0</td>\n",
       "      <td>0</td>\n",
       "      <td>0</td>\n",
       "    </tr>\n",
       "    <tr>\n",
       "      <th>3</th>\n",
       "      <td>2016</td>\n",
       "      <td>6499</td>\n",
       "      <td>23789</td>\n",
       "      <td>20</td>\n",
       "      <td>60.1</td>\n",
       "      <td>1.0</td>\n",
       "      <td>0</td>\n",
       "      <td>0</td>\n",
       "      <td>0</td>\n",
       "      <td>1</td>\n",
       "      <td>...</td>\n",
       "      <td>0</td>\n",
       "      <td>0</td>\n",
       "      <td>0</td>\n",
       "      <td>1</td>\n",
       "      <td>0</td>\n",
       "      <td>0</td>\n",
       "      <td>0</td>\n",
       "      <td>0</td>\n",
       "      <td>0</td>\n",
       "      <td>1</td>\n",
       "    </tr>\n",
       "    <tr>\n",
       "      <th>4</th>\n",
       "      <td>2015</td>\n",
       "      <td>10199</td>\n",
       "      <td>33177</td>\n",
       "      <td>160</td>\n",
       "      <td>51.4</td>\n",
       "      <td>2.0</td>\n",
       "      <td>0</td>\n",
       "      <td>0</td>\n",
       "      <td>0</td>\n",
       "      <td>0</td>\n",
       "      <td>...</td>\n",
       "      <td>0</td>\n",
       "      <td>0</td>\n",
       "      <td>0</td>\n",
       "      <td>1</td>\n",
       "      <td>0</td>\n",
       "      <td>0</td>\n",
       "      <td>1</td>\n",
       "      <td>0</td>\n",
       "      <td>0</td>\n",
       "      <td>0</td>\n",
       "    </tr>\n",
       "    <tr>\n",
       "      <th>...</th>\n",
       "      <td>...</td>\n",
       "      <td>...</td>\n",
       "      <td>...</td>\n",
       "      <td>...</td>\n",
       "      <td>...</td>\n",
       "      <td>...</td>\n",
       "      <td>...</td>\n",
       "      <td>...</td>\n",
       "      <td>...</td>\n",
       "      <td>...</td>\n",
       "      <td>...</td>\n",
       "      <td>...</td>\n",
       "      <td>...</td>\n",
       "      <td>...</td>\n",
       "      <td>...</td>\n",
       "      <td>...</td>\n",
       "      <td>...</td>\n",
       "      <td>...</td>\n",
       "      <td>...</td>\n",
       "      <td>...</td>\n",
       "      <td>...</td>\n",
       "    </tr>\n",
       "    <tr>\n",
       "      <th>4855</th>\n",
       "      <td>2016</td>\n",
       "      <td>8680</td>\n",
       "      <td>25906</td>\n",
       "      <td>0</td>\n",
       "      <td>78.4</td>\n",
       "      <td>1.6</td>\n",
       "      <td>0</td>\n",
       "      <td>0</td>\n",
       "      <td>0</td>\n",
       "      <td>0</td>\n",
       "      <td>...</td>\n",
       "      <td>0</td>\n",
       "      <td>0</td>\n",
       "      <td>0</td>\n",
       "      <td>1</td>\n",
       "      <td>0</td>\n",
       "      <td>0</td>\n",
       "      <td>1</td>\n",
       "      <td>0</td>\n",
       "      <td>0</td>\n",
       "      <td>0</td>\n",
       "    </tr>\n",
       "    <tr>\n",
       "      <th>4856</th>\n",
       "      <td>2015</td>\n",
       "      <td>7830</td>\n",
       "      <td>59508</td>\n",
       "      <td>30</td>\n",
       "      <td>65.7</td>\n",
       "      <td>1.7</td>\n",
       "      <td>0</td>\n",
       "      <td>0</td>\n",
       "      <td>0</td>\n",
       "      <td>0</td>\n",
       "      <td>...</td>\n",
       "      <td>0</td>\n",
       "      <td>0</td>\n",
       "      <td>0</td>\n",
       "      <td>1</td>\n",
       "      <td>0</td>\n",
       "      <td>0</td>\n",
       "      <td>1</td>\n",
       "      <td>0</td>\n",
       "      <td>0</td>\n",
       "      <td>0</td>\n",
       "    </tr>\n",
       "    <tr>\n",
       "      <th>4857</th>\n",
       "      <td>2017</td>\n",
       "      <td>6830</td>\n",
       "      <td>13810</td>\n",
       "      <td>20</td>\n",
       "      <td>60.1</td>\n",
       "      <td>1.0</td>\n",
       "      <td>0</td>\n",
       "      <td>0</td>\n",
       "      <td>0</td>\n",
       "      <td>1</td>\n",
       "      <td>...</td>\n",
       "      <td>0</td>\n",
       "      <td>0</td>\n",
       "      <td>0</td>\n",
       "      <td>1</td>\n",
       "      <td>0</td>\n",
       "      <td>0</td>\n",
       "      <td>0</td>\n",
       "      <td>0</td>\n",
       "      <td>0</td>\n",
       "      <td>1</td>\n",
       "    </tr>\n",
       "    <tr>\n",
       "      <th>4858</th>\n",
       "      <td>2018</td>\n",
       "      <td>13994</td>\n",
       "      <td>23313</td>\n",
       "      <td>145</td>\n",
       "      <td>44.8</td>\n",
       "      <td>1.6</td>\n",
       "      <td>0</td>\n",
       "      <td>0</td>\n",
       "      <td>0</td>\n",
       "      <td>0</td>\n",
       "      <td>...</td>\n",
       "      <td>1</td>\n",
       "      <td>0</td>\n",
       "      <td>0</td>\n",
       "      <td>1</td>\n",
       "      <td>0</td>\n",
       "      <td>0</td>\n",
       "      <td>0</td>\n",
       "      <td>0</td>\n",
       "      <td>0</td>\n",
       "      <td>1</td>\n",
       "    </tr>\n",
       "    <tr>\n",
       "      <th>4859</th>\n",
       "      <td>2016</td>\n",
       "      <td>15999</td>\n",
       "      <td>11472</td>\n",
       "      <td>125</td>\n",
       "      <td>57.6</td>\n",
       "      <td>1.7</td>\n",
       "      <td>0</td>\n",
       "      <td>0</td>\n",
       "      <td>0</td>\n",
       "      <td>0</td>\n",
       "      <td>...</td>\n",
       "      <td>1</td>\n",
       "      <td>0</td>\n",
       "      <td>1</td>\n",
       "      <td>0</td>\n",
       "      <td>0</td>\n",
       "      <td>0</td>\n",
       "      <td>1</td>\n",
       "      <td>0</td>\n",
       "      <td>0</td>\n",
       "      <td>0</td>\n",
       "    </tr>\n",
       "  </tbody>\n",
       "</table>\n",
       "<p>4860 rows × 30 columns</p>\n",
       "</div>"
      ],
      "text/plain": [
       "      year  price  mileage  tax(£)   mpg  engineSize  model_ Accent  \\\n",
       "0     2017   7999    17307     145  58.9         1.2              0   \n",
       "1     2016  14499    25233     235  43.5         2.0              0   \n",
       "2     2016  11399    37877      30  61.7         1.7              0   \n",
       "3     2016   6499    23789      20  60.1         1.0              0   \n",
       "4     2015  10199    33177     160  51.4         2.0              0   \n",
       "...    ...    ...      ...     ...   ...         ...            ...   \n",
       "4855  2016   8680    25906       0  78.4         1.6              0   \n",
       "4856  2015   7830    59508      30  65.7         1.7              0   \n",
       "4857  2017   6830    13810      20  60.1         1.0              0   \n",
       "4858  2018  13994    23313     145  44.8         1.6              0   \n",
       "4859  2016  15999    11472     125  57.6         1.7              0   \n",
       "\n",
       "      model_ Amica  model_ Getz  model_ I10  ...  model_ Tucson  \\\n",
       "0                0            0           0  ...              0   \n",
       "1                0            0           0  ...              1   \n",
       "2                0            0           0  ...              1   \n",
       "3                0            0           1  ...              0   \n",
       "4                0            0           0  ...              0   \n",
       "...            ...          ...         ...  ...            ...   \n",
       "4855             0            0           0  ...              0   \n",
       "4856             0            0           0  ...              0   \n",
       "4857             0            0           1  ...              0   \n",
       "4858             0            0           0  ...              1   \n",
       "4859             0            0           0  ...              1   \n",
       "\n",
       "      model_ Veloster  transmission_Automatic  transmission_Manual  \\\n",
       "0                   0                       0                    1   \n",
       "1                   0                       1                    0   \n",
       "2                   0                       0                    1   \n",
       "3                   0                       0                    1   \n",
       "4                   0                       0                    1   \n",
       "...               ...                     ...                  ...   \n",
       "4855                0                       0                    1   \n",
       "4856                0                       0                    1   \n",
       "4857                0                       0                    1   \n",
       "4858                0                       0                    1   \n",
       "4859                0                       1                    0   \n",
       "\n",
       "      transmission_Other  transmission_Semi-Auto  fuelType_Diesel  \\\n",
       "0                      0                       0                0   \n",
       "1                      0                       0                1   \n",
       "2                      0                       0                1   \n",
       "3                      0                       0                0   \n",
       "4                      0                       0                1   \n",
       "...                  ...                     ...              ...   \n",
       "4855                   0                       0                1   \n",
       "4856                   0                       0                1   \n",
       "4857                   0                       0                0   \n",
       "4858                   0                       0                0   \n",
       "4859                   0                       0                1   \n",
       "\n",
       "      fuelType_Hybrid  fuelType_Other  fuelType_Petrol  \n",
       "0                   0               0                1  \n",
       "1                   0               0                0  \n",
       "2                   0               0                0  \n",
       "3                   0               0                1  \n",
       "4                   0               0                0  \n",
       "...               ...             ...              ...  \n",
       "4855                0               0                0  \n",
       "4856                0               0                0  \n",
       "4857                0               0                1  \n",
       "4858                0               0                1  \n",
       "4859                0               0                0  \n",
       "\n",
       "[4860 rows x 30 columns]"
      ]
     },
     "execution_count": 16,
     "metadata": {},
     "output_type": "execute_result"
    }
   ],
   "source": [
    "data_onehot"
   ]
  },
  {
   "cell_type": "code",
   "execution_count": 17,
   "metadata": {},
   "outputs": [],
   "source": [
    "\n",
    "from sklearn.model_selection import train_test_split\n",
    "X = data_onehot.drop(['price'],axis=1)\n",
    "y = data_onehot['price']\n",
    "X_train,X_test,y_train,y_test = train_test_split(X,y,test_size=0.2,random_state=25)"
   ]
  },
  {
   "cell_type": "markdown",
   "metadata": {},
   "source": [
    "# Visualization using PCA"
   ]
  },
  {
   "cell_type": "code",
   "execution_count": 19,
   "metadata": {},
   "outputs": [
    {
     "data": {
      "text/plain": [
       "Text(0, 0.5, 'Price')"
      ]
     },
     "execution_count": 19,
     "metadata": {},
     "output_type": "execute_result"
    },
    {
     "data": {
      "image/png": "[encoded data removed]",
      "text/plain": [
       "<Figure size 1080x1080 with 1 Axes>"
      ]
     },
     "metadata": {
      "needs_background": "light"
     },
     "output_type": "display_data"
    }
   ],
   "source": [
    "from sklearn.decomposition import PCA\n",
    "pca = PCA(n_components=2)\n",
    "pca.fit(X.values)\n",
    "x_pca = pca.transform(X.values)\n",
    "\n",
    "plt.figure(figsize=(15,15))\n",
    "plt.scatter(x_pca[:,0],x_pca[:,1])\n",
    "plt.xlabel('First principal component')\n",
    "plt.ylabel('Price')"
   ]
  },
  {
   "cell_type": "markdown",
   "metadata": {},
   "source": [
    "# Linear Regression"
   ]
  },
  {
   "cell_type": "code",
   "execution_count": 20,
   "metadata": {},
   "outputs": [
    {
     "data": {
      "text/plain": [
       "0.8445445682151425"
      ]
     },
     "execution_count": 20,
     "metadata": {},
     "output_type": "execute_result"
    }
   ],
   "source": [
    "from sklearn.linear_model import LinearRegression\n",
    "regressor = LinearRegression()\n",
    "regressor.fit(X_train,y_train)\n",
    "regressor.score(X,y)\n"
   ]
  },
  {
   "cell_type": "code",
   "execution_count": 21,
   "metadata": {},
   "outputs": [
    {
     "data": {
      "text/html": [
       "<div>\n",
       "<style scoped>\n",
       "    .dataframe tbody tr th:only-of-type {\n",
       "        vertical-align: middle;\n",
       "    }\n",
       "\n",
       "    .dataframe tbody tr th {\n",
       "        vertical-align: top;\n",
       "    }\n",
       "\n",
       "    .dataframe thead th {\n",
       "        text-align: right;\n",
       "    }\n",
       "</style>\n",
       "<table border=\"1\" class=\"dataframe\">\n",
       "  <thead>\n",
       "    <tr style=\"text-align: right;\">\n",
       "      <th></th>\n",
       "      <th>predicted</th>\n",
       "      <th>actual</th>\n",
       "    </tr>\n",
       "  </thead>\n",
       "  <tbody>\n",
       "    <tr>\n",
       "      <th>1147</th>\n",
       "      <td>10587.48</td>\n",
       "      <td>10350</td>\n",
       "    </tr>\n",
       "    <tr>\n",
       "      <th>1817</th>\n",
       "      <td>10203.59</td>\n",
       "      <td>9190</td>\n",
       "    </tr>\n",
       "    <tr>\n",
       "      <th>241</th>\n",
       "      <td>6938.71</td>\n",
       "      <td>7298</td>\n",
       "    </tr>\n",
       "    <tr>\n",
       "      <th>1678</th>\n",
       "      <td>9444.64</td>\n",
       "      <td>8798</td>\n",
       "    </tr>\n",
       "    <tr>\n",
       "      <th>4696</th>\n",
       "      <td>7064.81</td>\n",
       "      <td>6865</td>\n",
       "    </tr>\n",
       "    <tr>\n",
       "      <th>...</th>\n",
       "      <td>...</td>\n",
       "      <td>...</td>\n",
       "    </tr>\n",
       "    <tr>\n",
       "      <th>301</th>\n",
       "      <td>8796.88</td>\n",
       "      <td>7798</td>\n",
       "    </tr>\n",
       "    <tr>\n",
       "      <th>163</th>\n",
       "      <td>7006.59</td>\n",
       "      <td>7998</td>\n",
       "    </tr>\n",
       "    <tr>\n",
       "      <th>3909</th>\n",
       "      <td>12708.95</td>\n",
       "      <td>12562</td>\n",
       "    </tr>\n",
       "    <tr>\n",
       "      <th>1984</th>\n",
       "      <td>13496.78</td>\n",
       "      <td>14291</td>\n",
       "    </tr>\n",
       "    <tr>\n",
       "      <th>4008</th>\n",
       "      <td>15836.23</td>\n",
       "      <td>17399</td>\n",
       "    </tr>\n",
       "  </tbody>\n",
       "</table>\n",
       "<p>972 rows × 2 columns</p>\n",
       "</div>"
      ],
      "text/plain": [
       "      predicted  actual\n",
       "1147   10587.48   10350\n",
       "1817   10203.59    9190\n",
       "241     6938.71    7298\n",
       "1678    9444.64    8798\n",
       "4696    7064.81    6865\n",
       "...         ...     ...\n",
       "301     8796.88    7798\n",
       "163     7006.59    7998\n",
       "3909   12708.95   12562\n",
       "1984   13496.78   14291\n",
       "4008   15836.23   17399\n",
       "\n",
       "[972 rows x 2 columns]"
      ]
     },
     "execution_count": 21,
     "metadata": {},
     "output_type": "execute_result"
    }
   ],
   "source": [
    "results = X_test.copy()\n",
    "results[\"predicted\"] = regressor.predict(X_test)\n",
    "results[\"actual\"]= y_test\n",
    "results = results[['predicted', 'actual']]\n",
    "results['predicted'] = results['predicted'].round(2)\n",
    "y_pred = regressor.predict(X_test)\n",
    "results"
   ]
  },
  {
   "cell_type": "markdown",
   "metadata": {},
   "source": [
    "# Visualizing the Results"
   ]
  },
  {
   "cell_type": "code",
   "execution_count": 22,
   "metadata": {},
   "outputs": [
    {
     "name": "stdout",
     "output_type": "stream",
     "text": [
      "Mean squared error: 3794542.25\n",
      "Coefficient of determination: 0.88\n"
     ]
    }
   ],
   "source": [
    "from sklearn.metrics import mean_squared_error\n",
    "from sklearn.metrics import r2_score\n",
    "\n",
    "# The mean squared error\n",
    "print('Mean squared error: %.2f'\n",
    "      % mean_squared_error(y_test, y_pred))\n",
    "\n",
    "#Best possible score is 1.0 and it can be negative (because the model can be arbitrarily worse). A constant model that always predicts the expected value of y, disregarding the input features, would get a R² score of 0.0. In Scikit Learn it looks like:\n",
    "print('Coefficient of determination: %.2f'\n",
    "      % r2_score(y_test, y_pred))\n"
   ]
  },
  {
   "cell_type": "code",
   "execution_count": 23,
   "metadata": {},
   "outputs": [],
   "source": [
    "#Normalization"
   ]
  },
  {
   "cell_type": "code",
   "execution_count": 24,
   "metadata": {},
   "outputs": [
    {
     "data": {
      "text/plain": [
       "<matplotlib.collections.PathCollection at 0x7fea566b2c10>"
      ]
     },
     "execution_count": 24,
     "metadata": {},
     "output_type": "execute_result"
    },
    {
     "data": {
      "image/png": "[encoded data removed]",
      "text/plain": [
       "<Figure size 432x288 with 1 Axes>"
      ]
     },
     "metadata": {
      "needs_background": "light"
     },
     "output_type": "display_data"
    }
   ],
   "source": [
    "plt.scatter(y_test,y_pred , color='blue')\n"
   ]
  },
  {
   "cell_type": "markdown",
   "metadata": {},
   "source": [
    "# Non Linear Regression"
   ]
  },
  {
   "cell_type": "markdown",
   "metadata": {},
   "source": [
    "Decision Tree and Random Forest"
   ]
  },
  {
   "cell_type": "code",
   "execution_count": 25,
   "metadata": {},
   "outputs": [
    {
     "name": "stdout",
     "output_type": "stream",
     "text": [
      "(3888, 29)\n",
      "(972, 29)\n"
     ]
    }
   ],
   "source": [
    "#read x &y as numpy array for faster execution \n",
    "\n",
    "\n",
    "X = # your code is here \n",
    "y = # your code is here \n",
    "\n",
    "X_train, X_test, y_train, y_test = train_test_split(X, y, test_size=0.2, random_state=25)\n",
    "print(X_train.shape); print(X_test.shape)"
   ]
  },
  {
   "cell_type": "markdown",
   "metadata": {},
   "source": [
    "## **Use Decision Tree & Random Forest**\n",
    "\n",
    "## **Compare the resulsts and visualize it as above**"
   ]
  },
  {
   "cell_type": "code",
   "execution_count": null,
   "metadata": {},
   "outputs": [],
   "source": []
  },
  {
   "cell_type": "code",
   "execution_count": null,
   "metadata": {},
   "outputs": [],
   "source": []
  },
  {
   "cell_type": "code",
   "execution_count": null,
   "metadata": {},
   "outputs": [],
   "source": []
  },
  {
   "cell_type": "code",
   "execution_count": null,
   "metadata": {},
   "outputs": [],
   "source": []
  }
 ],
 "metadata": {
  "kernelspec": {
   "display_name": "Python 3",
   "language": "python",
   "name": "python3"
  },
  "language_info": {
   "codemirror_mode": {
    "name": "ipython",
    "version": 3
   },
   "file_extension": ".py",
   "mimetype": "text/x-python",
   "name": "python",
   "nbconvert_exporter": "python",
   "pygments_lexer": "ipython3",
   "version": "3.8.2"
  }
 },
 "nbformat": 4,
 "nbformat_minor": 4
}
